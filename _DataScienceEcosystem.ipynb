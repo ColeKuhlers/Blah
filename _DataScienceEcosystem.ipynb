{
 "cells": [
  {
   "cell_type": "markdown",
   "id": "ef231d3b-9d38-4776-84ad-0f97feac61f6",
   "metadata": {
    "tags": []
   },
   "source": [
    "# Data Science Tools and Ecosystem"
   ]
  },
  {
   "cell_type": "markdown",
   "id": "ec543ff1-3111-40cb-ba60-633b0874383f",
   "metadata": {
    "tags": []
   },
   "source": [
    "In this notebook, Data Science Tools and Ecosystem are summarized."
   ]
  },
  {
   "cell_type": "markdown",
   "id": "ed59ef76-bbe1-4e0c-b967-80719ec95f5e",
   "metadata": {
    "tags": []
   },
   "source": [
    "**Objectives:**\n",
    "- Data science languages\n",
    "- Data science libraries\n",
    "- Data science tools"
   ]
  },
  {
   "cell_type": "markdown",
   "id": "f758ede4-5e70-44b7-9ddd-92601c1f3b83",
   "metadata": {
    "tags": []
   },
   "source": [
    "Some of the popular languages that Data Scientists use are:\n",
    "1. Python\n",
    "2. R\n",
    "3. SQL"
   ]
  },
  {
   "cell_type": "markdown",
   "id": "1a98c016-1113-4466-b49b-99951e222c7f",
   "metadata": {
    "tags": []
   },
   "source": [
    "Some of the commonly used libraries used by Data Scientists include:\n",
    "1. Pandas\n",
    "2. ggplot\n",
    "3. seaborn"
   ]
  },
  {
   "cell_type": "markdown",
   "id": "abc20fa6-1af7-429c-bcf8-4a91409ee41f",
   "metadata": {
    "tags": []
   },
   "source": [
    "| Data Science Tools| \n",
    "|:-----------------:|\n",
    "| Jupyter Notebooks |  \n",
    "|  Rstudio          |  \n",
    "|  Anaconda         |  "
   ]
  },
  {
   "cell_type": "markdown",
   "id": "a1a87f66-ce09-48cb-b450-8bdb6c09ce42",
   "metadata": {},
   "source": [
    "### Below are a few examples of evaluating arithmetic expressions in Python"
   ]
  },
  {
   "cell_type": "code",
   "execution_count": 7,
   "id": "52fad781-63f2-4fd4-81ed-7c007869cf87",
   "metadata": {
    "tags": []
   },
   "outputs": [
    {
     "data": {
      "text/plain": [
       "17"
      ]
     },
     "execution_count": 7,
     "metadata": {},
     "output_type": "execute_result"
    }
   ],
   "source": [
    "#This a simple arithmetic expression to mutiply then add integers.\n",
    "(3*4)+5"
   ]
  },
  {
   "cell_type": "code",
   "execution_count": 8,
   "id": "8b39695f-ffd5-4077-b62c-b9c35e903a0a",
   "metadata": {
    "tags": []
   },
   "outputs": [
    {
     "name": "stdout",
     "output_type": "stream",
     "text": [
      "200 minutes = 3.3333333333333335 hours\n"
     ]
    }
   ],
   "source": [
    " #This will convert 200 minutes to hours by diving by 60\n",
    "minutes = 200\n",
    "hours = minutes/60\n",
    "print(f\"{minutes} minutes = {hours} hours\")"
   ]
  },
  {
   "cell_type": "markdown",
   "id": "8a822854-f69c-45e8-b66d-f3dd45d72eee",
   "metadata": {},
   "source": [
    "## Author\n",
    "Cole Kuhlers"
   ]
  }
 ],
 "metadata": {
  "kernelspec": {
   "display_name": "Python",
   "language": "python",
   "name": "conda-env-python-py"
  },
  "language_info": {
   "codemirror_mode": {
    "name": "ipython",
    "version": 3
   },
   "file_extension": ".py",
   "mimetype": "text/x-python",
   "name": "python",
   "nbconvert_exporter": "python",
   "pygments_lexer": "ipython3",
   "version": "3.7.12"
  }
 },
 "nbformat": 4,
 "nbformat_minor": 5
}
